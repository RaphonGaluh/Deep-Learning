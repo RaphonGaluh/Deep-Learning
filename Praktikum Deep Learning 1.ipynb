{
 "cells": [
  {
   "cell_type": "markdown",
   "id": "617991b4",
   "metadata": {},
   "source": [
    "# Praktikum Deep Learning 1\n",
    "Nama  : Raphon Galuh Candraningtyas\n",
    "NIM   : 21110034\n",
    "Kelas : S1-SD02A"
   ]
  },
  {
   "cell_type": "markdown",
   "id": "855fcb9d",
   "metadata": {},
   "source": [
    "## Latihan Feedforward"
   ]
  },
  {
   "cell_type": "code",
   "execution_count": 1,
   "id": "b90ae3c8",
   "metadata": {},
   "outputs": [],
   "source": [
    "import numpy as np"
   ]
  },
  {
   "cell_type": "code",
   "execution_count": 2,
   "id": "dc75c02a",
   "metadata": {},
   "outputs": [],
   "source": [
    "# Fungsi Aktivaasi\n",
    "def relu(input):\n",
    "    return max(input, 0)\n",
    "\n",
    "# Weights\n",
    "weights = {\n",
    "    'hl_1_1':np.array([1, -5]),\n",
    "    'hl_1_2':np.array([-2, 4]),\n",
    "    'hl_1_3':np.array([2, -8]),\n",
    "    'hl_2_1':np.array([3, 5, -7]),\n",
    "     'hl_2_2':np.array([8,-2,-4]),\n",
    "     'hl_3_output':np.array([-5, -8]),\n",
    "    \n",
    "}\n",
    "\n",
    "\n",
    "# Bias\n",
    "bias = {\n",
    "    'b_1_1':2,\n",
    "    'b_1_2':6,\n",
    "    'b_1_3':3,\n",
    "    'b_2_1':5,\n",
    "    'b_2_1':9,\n",
    "    'b_3_output':4,\n",
    "}\n",
    "# Input Data\n",
    "data = np.array([3, 5])"
   ]
  },
  {
   "cell_type": "code",
   "execution_count": 4,
   "id": "b34847b9",
   "metadata": {},
   "outputs": [
    {
     "data": {
      "text/plain": [
       "array([3, 5])"
      ]
     },
     "execution_count": 4,
     "metadata": {},
     "output_type": "execute_result"
    }
   ],
   "source": [
    "data"
   ]
  },
  {
   "cell_type": "code",
   "execution_count": 3,
   "id": "7f834cd6",
   "metadata": {},
   "outputs": [],
   "source": [
    "def hidden_layer_1(input_data):\n",
    "    node_1 = None\n",
    "    node_2 = None\n",
    "    node_3 = None\n",
    "    return np.array([node_1, node_2, node_3])\n",
    "\n",
    "def hidden_layer_2(output_hidden_layer_1):\n",
    "    node_1 = None\n",
    "    node_2 = None\n",
    "    return np.array([node_1, node_2])\n",
    "\n",
    "def output_layer(output_hidden_layer_2):\n",
    "    return None"
   ]
  },
  {
   "cell_type": "code",
   "execution_count": 5,
   "id": "691c0405",
   "metadata": {},
   "outputs": [
    {
     "name": "stdout",
     "output_type": "stream",
     "text": [
      "None\n"
     ]
    }
   ],
   "source": [
    "output_hl_1 = None\n",
    "output_hl_2 = None\n",
    "output = None\n",
    "print(output)"
   ]
  },
  {
   "cell_type": "markdown",
   "id": "af8d3d55",
   "metadata": {},
   "source": [
    "Macam-macam Activation Functions"
   ]
  },
  {
   "cell_type": "markdown",
   "id": "24673a73",
   "metadata": {},
   "source": [
    "1. Sigmoid\n",
    "Fungsi aktivasi sigmoid mengubah input menjadi nilai antara 0 dan 1. Ini berguna dalam kasus klasifikasi biner.\n",
    "\n",
    "Keuntungan :\n",
    "Output berkisar antara 0 dan 1, berguna untuk mengubah nilai menjadi probabilitas.\n",
    "\n",
    "Kekurangan :\n",
    "Sebesar dan sekecil apapun nilai input, Output yang dikeluarkan hanya di sekitar 0 sampai 1."
   ]
  },
  {
   "cell_type": "code",
   "execution_count": 8,
   "id": "ef7e1adf",
   "metadata": {},
   "outputs": [
    {
     "name": "stdout",
     "output_type": "stream",
     "text": [
      "Angka Input :  -2.0 | Output Sigmoid :  0.11920292202211755\n",
      "Angka Input :  -1.0 | Output Sigmoid :  0.2689414213699951\n",
      "Angka Input :  0.0 | Output Sigmoid :  0.5\n",
      "Angka Input :  1.0 | Output Sigmoid :  0.7310585786300049\n",
      "Angka Input :  2.0 | Output Sigmoid :  0.8807970779778823\n"
     ]
    }
   ],
   "source": [
    "# Membuat fungsi Sigmoid\n",
    "def sigmoid(input):\n",
    "    return 1 / (1 + np.exp(-input))\n",
    "\n",
    "# Contoh data input\n",
    "x = np.array([-2.0, -1.0, 0.0, 1.0, 2.0])\n",
    "\n",
    "for i in x:\n",
    "    print(\"Angka Input : \", i, \"| Output Sigmoid : \", sigmoid(i))"
   ]
  },
  {
   "cell_type": "code",
   "execution_count": 7,
   "id": "30df022b",
   "metadata": {},
   "outputs": [
    {
     "data": {
      "image/png": "[encoded data removed]",
      "text/plain": [
       "<Figure size 640x480 with 1 Axes>"
      ]
     },
     "metadata": {},
     "output_type": "display_data"
    }
   ],
   "source": [
    "# Membuat Grafik Output Sigmoid\n",
    "import matplotlib.pyplot as plt\n",
    "\n",
    "# Membuat data yang akan dimasukkan ke sigmoid\n",
    "# Data ini memiliki jumlah sebanyak 100 dengan rentang dari -5 sampai 5\n",
    "x = np.linspace(-5, 5, 100)\n",
    "\n",
    "# Menyimpan output sigmoid\n",
    "output = sigmoid(x)\n",
    "\n",
    "# Membuat grafik output sigmoid\n",
    "plt.plot(x, output, label='Output Sigmoid')\n",
    "plt.title('Sigmoid Activation Function')\n",
    "plt.xlabel('Input')\n",
    "plt.ylabel('Output')\n",
    "plt.legend()\n",
    "plt.show()"
   ]
  },
  {
   "cell_type": "markdown",
   "id": "da548141",
   "metadata": {},
   "source": [
    "2. ReLU(Rectified Linear Unit) \n",
    "Fungsi aktivasi ReLU mengubah input yang bernilai negatif menjadi 0, sementara input yang bernilai positif tidak diubah.\n",
    "\n",
    "Keuntungan :\n",
    "ReLU sangat efisien secara komputasi.\n",
    "\n",
    "Kekurangan :\n",
    "ReLU memiliki apa yang dikenal sebagai \"dying ReLU problem\" - jika neuron yang menggunakan fungsi ReLU mendapatkan input negatif, maka neuron tersebut akan \"mati\", atau berhenti belajar."
   ]
  },
  {
   "cell_type": "code",
   "execution_count": 9,
   "id": "430d6611",
   "metadata": {},
   "outputs": [
    {
     "name": "stdout",
     "output_type": "stream",
     "text": [
      "Angka Input :  -2.0 | Output ReLU :  0.0\n",
      "Angka Input :  -1.0 | Output ReLU :  0.0\n",
      "Angka Input :  0.0 | Output ReLU :  0.0\n",
      "Angka Input :  1.0 | Output ReLU :  1.0\n",
      "Angka Input :  2.0 | Output ReLU :  2.0\n"
     ]
    }
   ],
   "source": [
    "# Membuat fungsi ReLU\n",
    "def ReLU(input):\n",
    "    return np.maximum(input, 0)\n",
    "\n",
    "# Contoh data input\n",
    "x = np.array([-2.0, -1.0, 0.0, 1.0, 2.0])\n",
    "\n",
    "for i in x:\n",
    "    print(\"Angka Input : \", i, \"| Output ReLU : \", ReLU(i))"
   ]
  },
  {
   "cell_type": "code",
   "execution_count": 10,
   "id": "c47625bc",
   "metadata": {},
   "outputs": [
    {
     "data": {
      "image/png": "[encoded data removed]",
      "text/plain": [
       "<Figure size 640x480 with 1 Axes>"
      ]
     },
     "metadata": {},
     "output_type": "display_data"
    }
   ],
   "source": [
    "# Membuat Grafik Output ReLU\n",
    "# Membuat data yang akan dimasukkan ke ReLU\n",
    "# Data ini memiliki jumlah sebanyak 100 dengan rentang dari -5 sampai 5\n",
    "x = np.linspace(-5, 5, 100)\n",
    "\n",
    "# Menyimpan output ReLU\n",
    "output = ReLU(x)\n",
    "\n",
    "# Membuat grafik output ReLU\n",
    "plt.plot(x, output, label='Output ReLU')\n",
    "plt.title('ReLU Activation Function')\n",
    "plt.xlabel('Input')\n",
    "plt.ylabel('Output')\n",
    "plt.legend()\n",
    "plt.show()"
   ]
  },
  {
   "cell_type": "markdown",
   "id": "fcb00a6a",
   "metadata": {},
   "source": [
    "3. Tanh\n",
    "Tanh adalah alternatif lain untuk sigmoid. Output dari fungsi ini memiliki rentang lebih besar dari sigmoid yaitu berkisar antara -1 hingga 1, yang menjadikannya lebih baik dalam menangani negatif input\n",
    "\n",
    "Keuntungan :\n",
    "Sama seperti sigmoid, tetapi lebih baik menangani input negatif.\n",
    "\n",
    "Kekurangan :\n",
    "Sebesar dan sekecil apapun nilai input, Output yang dikeluarkan hanya di sekitar -1 sampai 1."
   ]
  },
  {
   "cell_type": "code",
   "execution_count": 11,
   "id": "5142c3f1",
   "metadata": {},
   "outputs": [
    {
     "name": "stdout",
     "output_type": "stream",
     "text": [
      "Angka Input :  -2.0 | Output Tanh :  -0.9640275800758169\n",
      "Angka Input :  -1.0 | Output Tanh :  -0.7615941559557649\n",
      "Angka Input :  0.0 | Output Tanh :  0.0\n",
      "Angka Input :  1.0 | Output Tanh :  0.7615941559557649\n",
      "Angka Input :  2.0 | Output Tanh :  0.9640275800758169\n"
     ]
    }
   ],
   "source": [
    "# Membuat fungsi tanh\n",
    "def tanh(input):\n",
    "    return np.tanh(input)\n",
    "\n",
    "# Contoh data input\n",
    "x = np.array([-2.0, -1.0, 0.0, 1.0, 2.0])\n",
    "\n",
    "for i in x:\n",
    "    print(\"Angka Input : \", i, \"| Output Tanh : \", tanh(i))"
   ]
  },
  {
   "cell_type": "code",
   "execution_count": 12,
   "id": "fa8d14af",
   "metadata": {},
   "outputs": [
    {
     "data": {
      "image/png": "[encoded data removed]",
      "text/plain": [
       "<Figure size 640x480 with 1 Axes>"
      ]
     },
     "metadata": {},
     "output_type": "display_data"
    }
   ],
   "source": [
    "# Membuat Grafik Output tanh\n",
    "# Membuat data yang akan dimasukkan ke tanh\n",
    "# Data ini memiliki jumlah sebanyak 100 dengan rentang dari -5 sampai 5\n",
    "x = np.linspace(-5, 5, 100)\n",
    "\n",
    "# Menyimpan output tanh\n",
    "output = tanh(x)\n",
    "\n",
    "# Membuat grafik output tanh\n",
    "plt.plot(x, output, label='Output Tanh')\n",
    "plt.title('Tanh Activation Function')\n",
    "plt.xlabel('Input')\n",
    "plt.ylabel('Output')\n",
    "plt.legend()\n",
    "plt.show()"
   ]
  },
  {
   "cell_type": "markdown",
   "id": "67e26383",
   "metadata": {},
   "source": [
    "4. Softmax\n",
    "Fungsi aktivasi softmax digunakan dalam lapisan output jaringan yang digunakan untuk klasifikasi multi-kelas. Ini mengubah nilai input menjadi vektor probabilitas.\n",
    "\n",
    "Keuntungan :\n",
    "Berguna untuk klasifikasi multi-kelas.\n",
    "\n",
    "Kekurangan :\n",
    "Tidak cocok untuk digunakan di hidden layers."
   ]
  },
  {
   "cell_type": "code",
   "execution_count": 13,
   "id": "852ffd24",
   "metadata": {},
   "outputs": [
    {
     "name": "stdout",
     "output_type": "stream",
     "text": [
      "Angka Input :  -2.0 | Output Softmax :  [0.01165623 0.03168492 0.08612854 0.23412166 0.63640865]\n",
      "Angka Input :  -1.0 | Output Softmax :  [0.01165623 0.03168492 0.08612854 0.23412166 0.63640865]\n",
      "Angka Input :  0.0 | Output Softmax :  [0.01165623 0.03168492 0.08612854 0.23412166 0.63640865]\n",
      "Angka Input :  1.0 | Output Softmax :  [0.01165623 0.03168492 0.08612854 0.23412166 0.63640865]\n",
      "Angka Input :  2.0 | Output Softmax :  [0.01165623 0.03168492 0.08612854 0.23412166 0.63640865]\n"
     ]
    }
   ],
   "source": [
    "# Membuat fungsi Softmax\n",
    "def softmax(input):\n",
    "    e_x = np.exp(x - np.max(input))\n",
    "    return e_x / e_x.sum()\n",
    "\n",
    "# Contoh data input\n",
    "x = np.array([-2.0, -1.0, 0.0, 1.0, 2.0])\n",
    "\n",
    "for i in x:\n",
    "    print(\"Angka Input : \", i, \"| Output Softmax : \", softmax(i))"
   ]
  },
  {
   "cell_type": "markdown",
   "id": "d66487ab",
   "metadata": {},
   "source": [
    "5. Leaky ReLU\n",
    "Leaky ReLU adalah varian dari fungsi aktivasi ReLU yang memungkinkan sebagian kecil nilai negatif untuk tetap melewati tanpa menjadi nol mutlak. Ini membantu mengatasi masalah \"neuron mati\" yang bisa terjadi pada ReLU biasa.\n",
    "\n",
    "Keuntungan :\n",
    "Mengatasi masalah dying ReLU.\n",
    "\n",
    "Kekurangan :\n",
    "Hasilnya mungkin tidak stabil untuk data noise."
   ]
  },
  {
   "cell_type": "code",
   "execution_count": 14,
   "id": "55fda945",
   "metadata": {},
   "outputs": [
    {
     "name": "stdout",
     "output_type": "stream",
     "text": [
      "Angka Input :  -2.0 | Output Leaky ReLU :  -0.02\n",
      "Angka Input :  -1.0 | Output Leaky ReLU :  -0.01\n",
      "Angka Input :  0.0 | Output Leaky ReLU :  0.0\n",
      "Angka Input :  1.0 | Output Leaky ReLU :  1.0\n",
      "Angka Input :  2.0 | Output Leaky ReLU :  2.0\n"
     ]
    }
   ],
   "source": [
    "# Membuat fungsi Leaky ReLU\n",
    "def LeakyReLU(input):\n",
    "    return np.maximum(0.01*input, input)\n",
    "\n",
    "# Contoh data input\n",
    "x = np.array([-2.0, -1.0, 0.0, 1.0, 2.0])\n",
    "\n",
    "for i in x:\n",
    "    print(\"Angka Input : \", i, \"| Output Leaky ReLU : \", LeakyReLU(i))"
   ]
  },
  {
   "cell_type": "code",
   "execution_count": 15,
   "id": "6a37e230",
   "metadata": {},
   "outputs": [
    {
     "data": {
      "image/png": "[encoded data removed]",
      "text/plain": [
       "<Figure size 640x480 with 1 Axes>"
      ]
     },
     "metadata": {},
     "output_type": "display_data"
    }
   ],
   "source": [
    "# Membuat Grafik Output Leaky ReLU\n",
    "# Membuat data yang akan dimasukkan ke Leaky ReLU\n",
    "# Data ini memiliki jumlah sebanyak 100 dengan rentang dari -10 sampai 5\n",
    "x = np.linspace(-10, 5, 100)\n",
    "\n",
    "# Menyimpan output Leaky ReLU\n",
    "output = LeakyReLU(x)\n",
    "\n",
    "# Membuat grafik output Leaky ReLU\n",
    "plt.plot(x, output, label='Output Leaky ReLU')\n",
    "plt.title('Leaky ReLU Activation Function')\n",
    "plt.xlabel('Input')\n",
    "plt.ylabel('Output')\n",
    "plt.legend()\n",
    "plt.show()"
   ]
  },
  {
   "cell_type": "markdown",
   "id": "84171798",
   "metadata": {},
   "source": [
    "6. Linear\n",
    "Fungsi aktivasi linear, yang juga dikenal sebagai identitas atau fungsi identitas, adalah salah satu jenis fungsi aktivasi yang paling sederhana.\n",
    "\n",
    "Penggunaan :\n",
    "Fungsi aktivasi linear tidak memperkenalkan unsur non-linearitas ke dalam model.\n",
    "\n",
    "Fungsi aktivasi linear jarang digunakan dalam lapisan tersembunyi (hidden layers) dalam jaringan saraf tiruan. Hal ini karena kehadiran fungsi aktivasi linear tidak akan memberikan keuntungan tambahan dalam memodelkan data yang kompleks atau masalah yang rumit.\n",
    "\n",
    "Fungsi aktivasi linear sering digunakan dalam lapisan output model regresi, di mana model diminta untuk memprediksi nilai numerik atau kontinu. Ini karena aktivasi linear memungkinkan model untuk menghasilkan output yang berkisar dalam seluruh rentang nilai numerik."
   ]
  },
  {
   "cell_type": "markdown",
   "id": "b7f2efdd",
   "metadata": {},
   "source": [
    "## Membuat Artificial Neural Networks"
   ]
  },
  {
   "cell_type": "markdown",
   "id": "62763de0",
   "metadata": {},
   "source": [
    "Persiapan data"
   ]
  },
  {
   "cell_type": "code",
   "execution_count": 19,
   "id": "6e069d92",
   "metadata": {},
   "outputs": [],
   "source": [
    "import pandas as pd\n",
    "df = pd.read_csv('C:\\Galuh\\ITTP\\Perkuliahan\\Semester 5\\Deep Learning\\praktikum\\praktikum_1.csv')"
   ]
  },
  {
   "cell_type": "code",
   "execution_count": 20,
   "id": "f8240850",
   "metadata": {},
   "outputs": [
    {
     "data": {
      "text/html": [
       "<div>\n",
       "<style scoped>\n",
       "    .dataframe tbody tr th:only-of-type {\n",
       "        vertical-align: middle;\n",
       "    }\n",
       "\n",
       "    .dataframe tbody tr th {\n",
       "        vertical-align: top;\n",
       "    }\n",
       "\n",
       "    .dataframe thead th {\n",
       "        text-align: right;\n",
       "    }\n",
       "</style>\n",
       "<table border=\"1\" class=\"dataframe\">\n",
       "  <thead>\n",
       "    <tr style=\"text-align: right;\">\n",
       "      <th></th>\n",
       "      <th>x1</th>\n",
       "      <th>x2</th>\n",
       "      <th>x3</th>\n",
       "      <th>x4</th>\n",
       "      <th>y</th>\n",
       "    </tr>\n",
       "  </thead>\n",
       "  <tbody>\n",
       "    <tr>\n",
       "      <th>0</th>\n",
       "      <td>0.969049</td>\n",
       "      <td>0.811884</td>\n",
       "      <td>0.364106</td>\n",
       "      <td>0.791886</td>\n",
       "      <td>1.339874</td>\n",
       "    </tr>\n",
       "    <tr>\n",
       "      <th>1</th>\n",
       "      <td>0.189405</td>\n",
       "      <td>0.437117</td>\n",
       "      <td>0.105088</td>\n",
       "      <td>0.871999</td>\n",
       "      <td>0.288839</td>\n",
       "    </tr>\n",
       "    <tr>\n",
       "      <th>2</th>\n",
       "      <td>0.850152</td>\n",
       "      <td>0.090524</td>\n",
       "      <td>0.671884</td>\n",
       "      <td>0.809457</td>\n",
       "      <td>0.314485</td>\n",
       "    </tr>\n",
       "    <tr>\n",
       "      <th>3</th>\n",
       "      <td>0.944087</td>\n",
       "      <td>0.132889</td>\n",
       "      <td>0.489603</td>\n",
       "      <td>0.043965</td>\n",
       "      <td>0.940221</td>\n",
       "    </tr>\n",
       "    <tr>\n",
       "      <th>4</th>\n",
       "      <td>0.460488</td>\n",
       "      <td>0.903488</td>\n",
       "      <td>0.101475</td>\n",
       "      <td>0.331271</td>\n",
       "      <td>1.243162</td>\n",
       "    </tr>\n",
       "  </tbody>\n",
       "</table>\n",
       "</div>"
      ],
      "text/plain": [
       "         x1        x2        x3        x4         y\n",
       "0  0.969049  0.811884  0.364106  0.791886  1.339874\n",
       "1  0.189405  0.437117  0.105088  0.871999  0.288839\n",
       "2  0.850152  0.090524  0.671884  0.809457  0.314485\n",
       "3  0.944087  0.132889  0.489603  0.043965  0.940221\n",
       "4  0.460488  0.903488  0.101475  0.331271  1.243162"
      ]
     },
     "execution_count": 20,
     "metadata": {},
     "output_type": "execute_result"
    }
   ],
   "source": [
    "df.head()"
   ]
  },
  {
   "cell_type": "markdown",
   "id": "b6ef384c",
   "metadata": {},
   "source": [
    "Membagi Data ke Training dan Testing"
   ]
  },
  {
   "cell_type": "code",
   "execution_count": 23,
   "id": "d00e9882",
   "metadata": {},
   "outputs": [],
   "source": [
    "from sklearn.model_selection import train_test_split"
   ]
  },
  {
   "cell_type": "code",
   "execution_count": 24,
   "id": "b898cf37",
   "metadata": {},
   "outputs": [],
   "source": [
    "x = df.drop('y', axis= 1)\n",
    "y = df['y']\n",
    "\n",
    "xtrain,xtest, ytrain, ytest = train_test_split(x,y, test_size=.2, random_state= 42)"
   ]
  },
  {
   "cell_type": "markdown",
   "id": "7e69ab65",
   "metadata": {},
   "source": [
    "Membuat Data Validation"
   ]
  },
  {
   "cell_type": "code",
   "execution_count": 25,
   "id": "290c593e",
   "metadata": {},
   "outputs": [],
   "source": [
    "Xtrain, Xval, Ytrain, Yval =  train_test_split(xtrain, ytrain, test_size=.2, random_state= 42)"
   ]
  },
  {
   "cell_type": "markdown",
   "id": "7f3448b0",
   "metadata": {},
   "source": [
    "Membuat Arsitektur Model"
   ]
  },
  {
   "cell_type": "code",
   "execution_count": 26,
   "id": "e4415707",
   "metadata": {},
   "outputs": [],
   "source": [
    "from keras.models import Sequential\n",
    "from keras.layers import Dense\n",
    "\n",
    "model = Sequential()\n",
    "model.add(Dense(16, input_dim= 4, activation= 'tanh' ))\n",
    "model.add(Dense(8, activation= 'tanh' ))\n",
    "model.add(Dense(4, activation= 'tanh' ))\n",
    "model.add(Dense(2, activation= 'tanh' ))\n",
    "model.add(Dense(1, activation= 'linear'))"
   ]
  },
  {
   "cell_type": "markdown",
   "id": "889945a1",
   "metadata": {},
   "source": [
    "Compile Model"
   ]
  },
  {
   "cell_type": "code",
   "execution_count": 27,
   "id": "2a2085d7",
   "metadata": {},
   "outputs": [
    {
     "name": "stdout",
     "output_type": "stream",
     "text": [
      "Model: \"sequential\"\n",
      "_________________________________________________________________\n",
      " Layer (type)                Output Shape              Param #   \n",
      "=================================================================\n",
      " dense (Dense)               (None, 16)                80        \n",
      "                                                                 \n",
      " dense_1 (Dense)             (None, 8)                 136       \n",
      "                                                                 \n",
      " dense_2 (Dense)             (None, 4)                 36        \n",
      "                                                                 \n",
      " dense_3 (Dense)             (None, 2)                 10        \n",
      "                                                                 \n",
      " dense_4 (Dense)             (None, 1)                 3         \n",
      "                                                                 \n",
      "=================================================================\n",
      "Total params: 265 (1.04 KB)\n",
      "Trainable params: 265 (1.04 KB)\n",
      "Non-trainable params: 0 (0.00 Byte)\n",
      "_________________________________________________________________\n"
     ]
    }
   ],
   "source": [
    "model.compile(loss='mse', optimizer= 'adam')\n",
    "model.summary()"
   ]
  },
  {
   "cell_type": "raw",
   "id": "d7a54352",
   "metadata": {},
   "source": [
    "Training Model"
   ]
  },
  {
   "cell_type": "code",
   "execution_count": 28,
   "id": "c4d9c921",
   "metadata": {},
   "outputs": [
    {
     "name": "stdout",
     "output_type": "stream",
     "text": [
      "Epoch 1/100\n",
      "100/100 [==============================] - 1s 4ms/step - loss: 0.2192 - val_loss: 0.1278\n",
      "Epoch 2/100\n",
      "100/100 [==============================] - 0s 2ms/step - loss: 0.0671 - val_loss: 0.0391\n",
      "Epoch 3/100\n",
      "100/100 [==============================] - 0s 2ms/step - loss: 0.0354 - val_loss: 0.0308\n",
      "Epoch 4/100\n",
      "100/100 [==============================] - 0s 2ms/step - loss: 0.0285 - val_loss: 0.0251\n",
      "Epoch 5/100\n",
      "100/100 [==============================] - 0s 2ms/step - loss: 0.0238 - val_loss: 0.0214\n",
      "Epoch 6/100\n",
      "100/100 [==============================] - 0s 2ms/step - loss: 0.0204 - val_loss: 0.0185\n",
      "Epoch 7/100\n",
      "100/100 [==============================] - 0s 2ms/step - loss: 0.0179 - val_loss: 0.0161\n",
      "Epoch 8/100\n",
      "100/100 [==============================] - 0s 2ms/step - loss: 0.0155 - val_loss: 0.0140\n",
      "Epoch 9/100\n",
      "100/100 [==============================] - 0s 2ms/step - loss: 0.0130 - val_loss: 0.0113\n",
      "Epoch 10/100\n",
      "100/100 [==============================] - 0s 2ms/step - loss: 0.0100 - val_loss: 0.0085\n",
      "Epoch 11/100\n",
      "100/100 [==============================] - 0s 2ms/step - loss: 0.0074 - val_loss: 0.0066\n",
      "Epoch 12/100\n",
      "100/100 [==============================] - 0s 2ms/step - loss: 0.0060 - val_loss: 0.0056\n",
      "Epoch 13/100\n",
      "100/100 [==============================] - 0s 2ms/step - loss: 0.0051 - val_loss: 0.0050\n",
      "Epoch 14/100\n",
      "100/100 [==============================] - 0s 3ms/step - loss: 0.0046 - val_loss: 0.0046\n",
      "Epoch 15/100\n",
      "100/100 [==============================] - 0s 3ms/step - loss: 0.0042 - val_loss: 0.0042\n",
      "Epoch 16/100\n",
      "100/100 [==============================] - 0s 2ms/step - loss: 0.0038 - val_loss: 0.0038\n",
      "Epoch 17/100\n",
      "100/100 [==============================] - 0s 2ms/step - loss: 0.0035 - val_loss: 0.0035\n",
      "Epoch 18/100\n",
      "100/100 [==============================] - 0s 2ms/step - loss: 0.0031 - val_loss: 0.0031\n",
      "Epoch 19/100\n",
      "100/100 [==============================] - 0s 2ms/step - loss: 0.0028 - val_loss: 0.0028\n",
      "Epoch 20/100\n",
      "100/100 [==============================] - 0s 3ms/step - loss: 0.0026 - val_loss: 0.0025\n",
      "Epoch 21/100\n",
      "100/100 [==============================] - 0s 3ms/step - loss: 0.0023 - val_loss: 0.0024\n",
      "Epoch 22/100\n",
      "100/100 [==============================] - 0s 2ms/step - loss: 0.0022 - val_loss: 0.0022\n",
      "Epoch 23/100\n",
      "100/100 [==============================] - 0s 2ms/step - loss: 0.0020 - val_loss: 0.0020\n",
      "Epoch 24/100\n",
      "100/100 [==============================] - 0s 2ms/step - loss: 0.0018 - val_loss: 0.0018\n",
      "Epoch 25/100\n",
      "100/100 [==============================] - 0s 2ms/step - loss: 0.0018 - val_loss: 0.0017\n",
      "Epoch 26/100\n",
      "100/100 [==============================] - 0s 2ms/step - loss: 0.0016 - val_loss: 0.0016\n",
      "Epoch 27/100\n",
      "100/100 [==============================] - 0s 3ms/step - loss: 0.0014 - val_loss: 0.0014\n",
      "Epoch 28/100\n",
      "100/100 [==============================] - 0s 2ms/step - loss: 0.0013 - val_loss: 0.0012\n",
      "Epoch 29/100\n",
      "100/100 [==============================] - 0s 3ms/step - loss: 0.0011 - val_loss: 9.9986e-04\n",
      "Epoch 30/100\n",
      "100/100 [==============================] - 0s 2ms/step - loss: 8.9716e-04 - val_loss: 8.8683e-04\n",
      "Epoch 31/100\n",
      "100/100 [==============================] - 0s 2ms/step - loss: 7.1198e-04 - val_loss: 6.6254e-04\n",
      "Epoch 32/100\n",
      "100/100 [==============================] - 0s 2ms/step - loss: 5.5596e-04 - val_loss: 6.1087e-04\n",
      "Epoch 33/100\n",
      "100/100 [==============================] - 0s 3ms/step - loss: 4.9678e-04 - val_loss: 4.2756e-04\n",
      "Epoch 34/100\n",
      "100/100 [==============================] - 0s 2ms/step - loss: 3.9934e-04 - val_loss: 3.7857e-04\n",
      "Epoch 35/100\n",
      "100/100 [==============================] - 0s 3ms/step - loss: 3.6937e-04 - val_loss: 3.7088e-04\n",
      "Epoch 36/100\n",
      "100/100 [==============================] - 0s 2ms/step - loss: 3.3581e-04 - val_loss: 3.2222e-04\n",
      "Epoch 37/100\n",
      "100/100 [==============================] - 0s 2ms/step - loss: 3.2475e-04 - val_loss: 2.9828e-04\n",
      "Epoch 38/100\n",
      "100/100 [==============================] - 0s 2ms/step - loss: 2.9563e-04 - val_loss: 2.9144e-04\n",
      "Epoch 39/100\n",
      "100/100 [==============================] - 0s 2ms/step - loss: 2.8399e-04 - val_loss: 2.6534e-04\n",
      "Epoch 40/100\n",
      "100/100 [==============================] - 0s 2ms/step - loss: 2.6769e-04 - val_loss: 2.5292e-04\n",
      "Epoch 41/100\n",
      "100/100 [==============================] - 0s 3ms/step - loss: 2.5769e-04 - val_loss: 2.5173e-04\n",
      "Epoch 42/100\n",
      "100/100 [==============================] - 0s 3ms/step - loss: 2.5979e-04 - val_loss: 2.4144e-04\n",
      "Epoch 43/100\n",
      "100/100 [==============================] - 0s 3ms/step - loss: 2.5122e-04 - val_loss: 2.3891e-04\n",
      "Epoch 44/100\n",
      "100/100 [==============================] - 0s 2ms/step - loss: 2.5572e-04 - val_loss: 3.3614e-04\n",
      "Epoch 45/100\n",
      "100/100 [==============================] - 0s 2ms/step - loss: 2.4197e-04 - val_loss: 2.0597e-04\n",
      "Epoch 46/100\n",
      "100/100 [==============================] - 0s 2ms/step - loss: 2.2205e-04 - val_loss: 2.0516e-04\n",
      "Epoch 47/100\n",
      "100/100 [==============================] - 0s 2ms/step - loss: 2.2283e-04 - val_loss: 2.0385e-04\n",
      "Epoch 48/100\n",
      "100/100 [==============================] - 0s 2ms/step - loss: 2.0209e-04 - val_loss: 1.9016e-04\n",
      "Epoch 49/100\n",
      "100/100 [==============================] - 0s 2ms/step - loss: 2.0016e-04 - val_loss: 1.9933e-04\n",
      "Epoch 50/100\n",
      "100/100 [==============================] - 0s 2ms/step - loss: 2.1696e-04 - val_loss: 2.2879e-04\n",
      "Epoch 51/100\n",
      "100/100 [==============================] - 0s 2ms/step - loss: 2.0372e-04 - val_loss: 1.7883e-04\n",
      "Epoch 52/100\n",
      "100/100 [==============================] - 0s 2ms/step - loss: 1.8495e-04 - val_loss: 1.9303e-04\n",
      "Epoch 53/100\n",
      "100/100 [==============================] - 0s 2ms/step - loss: 1.9886e-04 - val_loss: 1.8278e-04\n",
      "Epoch 54/100\n",
      "100/100 [==============================] - 0s 2ms/step - loss: 1.9414e-04 - val_loss: 1.6003e-04\n",
      "Epoch 55/100\n",
      "100/100 [==============================] - 0s 2ms/step - loss: 1.7028e-04 - val_loss: 1.8185e-04\n",
      "Epoch 56/100\n",
      "100/100 [==============================] - 0s 2ms/step - loss: 1.6926e-04 - val_loss: 1.6912e-04\n",
      "Epoch 57/100\n",
      "100/100 [==============================] - 0s 2ms/step - loss: 1.7409e-04 - val_loss: 1.6066e-04\n",
      "Epoch 58/100\n",
      "100/100 [==============================] - 0s 2ms/step - loss: 1.5639e-04 - val_loss: 2.3540e-04\n",
      "Epoch 59/100\n",
      "100/100 [==============================] - 0s 2ms/step - loss: 1.7314e-04 - val_loss: 1.5279e-04\n",
      "Epoch 60/100\n",
      "100/100 [==============================] - 0s 2ms/step - loss: 1.4847e-04 - val_loss: 1.4609e-04\n",
      "Epoch 61/100\n",
      "100/100 [==============================] - 0s 2ms/step - loss: 1.6898e-04 - val_loss: 1.4987e-04\n",
      "Epoch 62/100\n",
      "100/100 [==============================] - 0s 2ms/step - loss: 1.4963e-04 - val_loss: 1.3124e-04\n",
      "Epoch 63/100\n",
      "100/100 [==============================] - 0s 2ms/step - loss: 1.6410e-04 - val_loss: 1.4935e-04\n",
      "Epoch 64/100\n",
      "100/100 [==============================] - 0s 2ms/step - loss: 1.5316e-04 - val_loss: 1.4029e-04\n",
      "Epoch 65/100\n",
      "100/100 [==============================] - 0s 2ms/step - loss: 1.5704e-04 - val_loss: 1.6009e-04\n",
      "Epoch 66/100\n",
      "100/100 [==============================] - 0s 2ms/step - loss: 1.4642e-04 - val_loss: 1.3602e-04\n",
      "Epoch 67/100\n",
      "100/100 [==============================] - 0s 2ms/step - loss: 1.4016e-04 - val_loss: 1.2303e-04\n",
      "Epoch 68/100\n",
      "100/100 [==============================] - 0s 2ms/step - loss: 1.4800e-04 - val_loss: 1.3422e-04\n",
      "Epoch 69/100\n",
      "100/100 [==============================] - 0s 2ms/step - loss: 1.2879e-04 - val_loss: 1.4217e-04\n",
      "Epoch 70/100\n",
      "100/100 [==============================] - 0s 2ms/step - loss: 1.2939e-04 - val_loss: 1.5495e-04\n",
      "Epoch 71/100\n",
      "100/100 [==============================] - 0s 2ms/step - loss: 1.2295e-04 - val_loss: 1.1498e-04\n",
      "Epoch 72/100\n",
      "100/100 [==============================] - 0s 2ms/step - loss: 1.2281e-04 - val_loss: 1.2698e-04\n",
      "Epoch 73/100\n",
      "100/100 [==============================] - 0s 2ms/step - loss: 1.1846e-04 - val_loss: 1.1805e-04\n",
      "Epoch 74/100\n",
      "100/100 [==============================] - 0s 2ms/step - loss: 1.2801e-04 - val_loss: 1.0992e-04\n",
      "Epoch 75/100\n",
      "100/100 [==============================] - 0s 2ms/step - loss: 1.1321e-04 - val_loss: 9.8428e-05\n",
      "Epoch 76/100\n",
      "100/100 [==============================] - 0s 2ms/step - loss: 1.0990e-04 - val_loss: 1.1670e-04\n",
      "Epoch 77/100\n"
     ]
    },
    {
     "name": "stdout",
     "output_type": "stream",
     "text": [
      "100/100 [==============================] - 0s 2ms/step - loss: 1.0605e-04 - val_loss: 1.5936e-04\n",
      "Epoch 78/100\n",
      "100/100 [==============================] - 0s 2ms/step - loss: 1.1946e-04 - val_loss: 1.1118e-04\n",
      "Epoch 79/100\n",
      "100/100 [==============================] - 0s 2ms/step - loss: 1.0772e-04 - val_loss: 9.1557e-05\n",
      "Epoch 80/100\n",
      "100/100 [==============================] - 0s 3ms/step - loss: 1.1298e-04 - val_loss: 9.0943e-05\n",
      "Epoch 81/100\n",
      "100/100 [==============================] - 0s 2ms/step - loss: 9.8425e-05 - val_loss: 8.9058e-05\n",
      "Epoch 82/100\n",
      "100/100 [==============================] - 0s 2ms/step - loss: 9.9101e-05 - val_loss: 1.1848e-04\n",
      "Epoch 83/100\n",
      "100/100 [==============================] - 0s 2ms/step - loss: 1.0335e-04 - val_loss: 9.8798e-05\n",
      "Epoch 84/100\n",
      "100/100 [==============================] - 0s 2ms/step - loss: 9.5923e-05 - val_loss: 1.0707e-04\n",
      "Epoch 85/100\n",
      "100/100 [==============================] - 0s 2ms/step - loss: 1.0241e-04 - val_loss: 8.0100e-05\n",
      "Epoch 86/100\n",
      "100/100 [==============================] - 0s 2ms/step - loss: 9.0645e-05 - val_loss: 1.1970e-04\n",
      "Epoch 87/100\n",
      "100/100 [==============================] - 0s 2ms/step - loss: 9.6462e-05 - val_loss: 8.1003e-05\n",
      "Epoch 88/100\n",
      "100/100 [==============================] - 0s 2ms/step - loss: 8.6914e-05 - val_loss: 7.7834e-05\n",
      "Epoch 89/100\n",
      "100/100 [==============================] - 0s 2ms/step - loss: 1.0868e-04 - val_loss: 9.6723e-05\n",
      "Epoch 90/100\n",
      "100/100 [==============================] - 0s 2ms/step - loss: 9.2403e-05 - val_loss: 1.5938e-04\n",
      "Epoch 91/100\n",
      "100/100 [==============================] - 0s 2ms/step - loss: 9.5223e-05 - val_loss: 9.2255e-05\n",
      "Epoch 92/100\n",
      "100/100 [==============================] - 0s 3ms/step - loss: 9.2138e-05 - val_loss: 1.4219e-04\n",
      "Epoch 93/100\n",
      "100/100 [==============================] - 0s 2ms/step - loss: 8.4551e-05 - val_loss: 7.2445e-05\n",
      "Epoch 94/100\n",
      "100/100 [==============================] - 0s 2ms/step - loss: 8.6254e-05 - val_loss: 9.1631e-05\n",
      "Epoch 95/100\n",
      "100/100 [==============================] - 0s 2ms/step - loss: 7.5008e-05 - val_loss: 6.7580e-05\n",
      "Epoch 96/100\n",
      "100/100 [==============================] - 0s 2ms/step - loss: 8.2821e-05 - val_loss: 7.8481e-05\n",
      "Epoch 97/100\n",
      "100/100 [==============================] - 0s 2ms/step - loss: 7.5547e-05 - val_loss: 7.3760e-05\n",
      "Epoch 98/100\n",
      "100/100 [==============================] - 0s 2ms/step - loss: 8.8964e-05 - val_loss: 6.6535e-05\n",
      "Epoch 99/100\n",
      "100/100 [==============================] - 0s 2ms/step - loss: 7.5551e-05 - val_loss: 7.9644e-05\n",
      "Epoch 100/100\n",
      "100/100 [==============================] - 0s 2ms/step - loss: 7.6999e-05 - val_loss: 9.0285e-05\n"
     ]
    }
   ],
   "source": [
    "ctt = model.fit(Xtrain,Ytrain, validation_data= [Xval, Yval], epochs= 100, batch_size= 64)"
   ]
  },
  {
   "cell_type": "markdown",
   "id": "d6775427",
   "metadata": {},
   "source": [
    "Plot Performa Model"
   ]
  },
  {
   "cell_type": "code",
   "execution_count": 30,
   "id": "cc9d8bad",
   "metadata": {},
   "outputs": [
    {
     "data": {
      "text/plain": [
       "[<matplotlib.lines.Line2D at 0x197d3cb6f50>,\n",
       " <matplotlib.lines.Line2D at 0x197d2a9e610>]"
      ]
     },
     "execution_count": 30,
     "metadata": {},
     "output_type": "execute_result"
    },
    {
     "data": {
      "image/png": "[encoded data removed]",
      "text/plain": [
       "<Figure size 640x480 with 1 Axes>"
      ]
     },
     "metadata": {},
     "output_type": "display_data"
    }
   ],
   "source": [
    "import matplotlib.pyplot as plt\n",
    "\n",
    "plt.plot(range(len(ctt.history['loss'])), ctt.history['loss'], 'g',\n",
    "        range(len(ctt.history['val_loss'])), ctt.history['val_loss'], 'b',\n",
    "         )\n",
    "\n",
    "# loss jauh di atas val_loss = overfitting\n",
    "# loss jauh di atas val_loss = underfitting (grafik bawah)"
   ]
  },
  {
   "cell_type": "markdown",
   "id": "07701dd9",
   "metadata": {},
   "source": [
    "EValuasi Model"
   ]
  },
  {
   "cell_type": "code",
   "execution_count": 31,
   "id": "a55aa330",
   "metadata": {},
   "outputs": [
    {
     "name": "stdout",
     "output_type": "stream",
     "text": [
      "63/63 [==============================] - 0s 1ms/step - loss: 8.7442e-05\n",
      "Loss Model= 8.744203660171479e-05\n"
     ]
    }
   ],
   "source": [
    "loss = model.evaluate(xtest, ytest)\n",
    "print('Loss Model=', loss)"
   ]
  },
  {
   "cell_type": "markdown",
   "id": "e5005aa3",
   "metadata": {},
   "source": [
    "Melakukan Prediksi"
   ]
  },
  {
   "cell_type": "code",
   "execution_count": 32,
   "id": "21f207a8",
   "metadata": {},
   "outputs": [
    {
     "name": "stdout",
     "output_type": "stream",
     "text": [
      "1/1 [==============================] - 0s 137ms/step\n"
     ]
    },
    {
     "data": {
      "text/plain": [
       "array([[0.29572144],\n",
       "       [0.5372934 ],\n",
       "       [0.8545587 ],\n",
       "       [0.25538874]], dtype=float32)"
      ]
     },
     "execution_count": 32,
     "metadata": {},
     "output_type": "execute_result"
    }
   ],
   "source": [
    "model.predict([\n",
    "    [0.5, 0.4, 0.6, 0.6],\n",
    "    [0.1, 0.8, 0.3, 0.7],\n",
    "    [0.9, 0.1, 0.5, 0.1],\n",
    "    [0.24, 0.3, 0.7, 0.11]\n",
    "])"
   ]
  }
 ],
 "metadata": {
  "kernelspec": {
   "display_name": "Python 3 (ipykernel)",
   "language": "python",
   "name": "python3"
  },
  "language_info": {
   "codemirror_mode": {
    "name": "ipython",
    "version": 3
   },
   "file_extension": ".py",
   "mimetype": "text/x-python",
   "name": "python",
   "nbconvert_exporter": "python",
   "pygments_lexer": "ipython3",
   "version": "3.11.5"
  }
 },
 "nbformat": 4,
 "nbformat_minor": 5
}
